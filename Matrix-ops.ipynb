{
 "cells": [
  {
   "cell_type": "code",
   "execution_count": 1,
   "metadata": {
    "collapsed": true
   },
   "outputs": [],
   "source": [
    "import numpy as np\n",
    "A = np.random.rand(3,6)"
   ]
  },
  {
   "cell_type": "code",
   "execution_count": 2,
   "metadata": {},
   "outputs": [
    {
     "name": "stdout",
     "output_type": "stream",
     "text": [
      "[[ 0.16356398  0.9493737   0.53819405  0.22806174  0.56729895  0.44603256]\n",
      " [ 0.80738526  0.88486318  0.59933988  0.30075583  0.74697438  0.12299693]\n",
      " [ 0.58153822  0.69264384  0.07992981  0.68967487  0.96350118  0.24944796]]\n"
     ]
    }
   ],
   "source": [
    "print A"
   ]
  },
  {
   "cell_type": "code",
   "execution_count": 3,
   "metadata": {},
   "outputs": [
    {
     "name": "stdout",
     "output_type": "stream",
     "text": [
      "Shape of A: (3, 6)\n"
     ]
    }
   ],
   "source": [
    "print \"Shape of A:\", A.shape "
   ]
  },
  {
   "cell_type": "code",
   "execution_count": 6,
   "metadata": {
    "collapsed": true
   },
   "outputs": [],
   "source": [
    "np.set_printoptions(precision=3)\n",
    "\n"
   ]
  },
  {
   "cell_type": "code",
   "execution_count": 7,
   "metadata": {},
   "outputs": [
    {
     "name": "stdout",
     "output_type": "stream",
     "text": [
      "[[ 0.164  0.949  0.538  0.228  0.567  0.446]\n",
      " [ 0.807  0.885  0.599  0.301  0.747  0.123]\n",
      " [ 0.582  0.693  0.08   0.69   0.964  0.249]]\n"
     ]
    }
   ],
   "source": [
    "print A"
   ]
  },
  {
   "cell_type": "code",
   "execution_count": 21,
   "metadata": {
    "collapsed": true
   },
   "outputs": [],
   "source": [
    "B = np.random.rand(5,10)"
   ]
  },
  {
   "cell_type": "code",
   "execution_count": 22,
   "metadata": {},
   "outputs": [
    {
     "name": "stdout",
     "output_type": "stream",
     "text": [
      "[[ 0.3  0.2  0.3  0.9  0.3  0.   0.1  0.8  0.8  0.9]\n",
      " [ 0.3  0.5  0.2  0.   0.9  1.   0.2  0.2  0.7  0.5]\n",
      " [ 0.9  0.6  0.5  0.8  0.4  0.9  0.2  0.3  0.1  0.4]\n",
      " [ 0.4  0.2  0.7  0.1  0.8  0.3  1.   0.1  1.   0.8]\n",
      " [ 0.9  0.6  0.1  0.4  0.6  0.9  0.9  0.9  0.2  0.3]]\n"
     ]
    }
   ],
   "source": [
    "print B"
   ]
  },
  {
   "cell_type": "code",
   "execution_count": 25,
   "metadata": {
    "collapsed": true
   },
   "outputs": [],
   "source": [
    "B = B*(100-1) + 1\n"
   ]
  },
  {
   "cell_type": "code",
   "execution_count": 26,
   "metadata": {},
   "outputs": [
    {
     "name": "stdout",
     "output_type": "stream",
     "text": [
      "[[ 3084.4  2311.   3323.6  8811.8  2979.7   578.8  1284.   7630.8  7527.\n",
      "   8677.1]\n",
      " [ 2908.2  5374.1  1740.7   141.7  8656.8  9509.2  2029.5  2151.1  6544.9\n",
      "   4754.5]\n",
      " [ 9250.3  6413.   4803.4  8155.7  4385.6  9128.   1661.9  2852.5   793.9\n",
      "   4320. ]\n",
      " [ 3808.   1779.   7202.   1069.6  8150.9  2996.7  9772.5   777.1  9850.8\n",
      "   7589.5]\n",
      " [ 8981.2  5989.6   857.7  4480.4  6422.5  9378.9  9349.6  9367.1  1613.6\n",
      "   3145.2]]\n"
     ]
    }
   ],
   "source": [
    "print B"
   ]
  },
  {
   "cell_type": "code",
   "execution_count": 29,
   "metadata": {
    "collapsed": true
   },
   "outputs": [],
   "source": [
    "B = B.astype(np.int32)"
   ]
  },
  {
   "cell_type": "code",
   "execution_count": 30,
   "metadata": {},
   "outputs": [
    {
     "name": "stdout",
     "output_type": "stream",
     "text": [
      "[[3084 2310 3323 8811 2979  578 1284 7630 7527 8677]\n",
      " [2908 5374 1740  141 8656 9509 2029 2151 6544 4754]\n",
      " [9250 6413 4803 8155 4385 9127 1661 2852  793 4320]\n",
      " [3807 1779 7202 1069 8150 2996 9772  777 9850 7589]\n",
      " [8981 5989  857 4480 6422 9378 9349 9367 1613 3145]]\n"
     ]
    }
   ],
   "source": [
    "print B"
   ]
  },
  {
   "cell_type": "code",
   "execution_count": 31,
   "metadata": {},
   "outputs": [
    {
     "name": "stdout",
     "output_type": "stream",
     "text": [
      "int32\n"
     ]
    }
   ],
   "source": [
    "print B.dtype"
   ]
  },
  {
   "cell_type": "code",
   "execution_count": 32,
   "metadata": {},
   "outputs": [
    {
     "name": "stdout",
     "output_type": "stream",
     "text": [
      "[ 141  578  777  793  857 1069 1284 1613 1661 1740 1779 2029 2151 2310 2852\n",
      " 2908 2979 2996 3084 3145 3323 3807 4320 4385 4480 4754 4803 5374 5989 6413\n",
      " 6422 6544 7202 7527 7589 7630 8150 8155 8656 8677 8811 8981 9127 9250 9349\n",
      " 9367 9378 9509 9772 9850]\n"
     ]
    }
   ],
   "source": [
    "print np.unique(B)"
   ]
  },
  {
   "cell_type": "code",
   "execution_count": 40,
   "metadata": {
    "collapsed": true
   },
   "outputs": [],
   "source": [
    "B = np.random.rand(5,10)\n"
   ]
  },
  {
   "cell_type": "code",
   "execution_count": 41,
   "metadata": {},
   "outputs": [
    {
     "name": "stdout",
     "output_type": "stream",
     "text": [
      "[[ 0.5  0.8  0.5  0.9  0.6  0.4  0.2  0.1  0.8  0.3]\n",
      " [ 0.4  0.1  0.   0.6  0.8  0.3  0.5  0.1  1.   0.4]\n",
      " [ 0.2  0.8  0.7  0.2  0.4  0.9  0.9  0.3  0.9  0.1]\n",
      " [ 0.1  0.4  0.8  0.8  0.1  0.3  0.3  0.4  0.2  0.1]\n",
      " [ 0.4  0.1  0.2  0.5  0.8  0.7  1.   0.1  0.5  0.9]]\n"
     ]
    }
   ],
   "source": [
    "print B"
   ]
  },
  {
   "cell_type": "code",
   "execution_count": 43,
   "metadata": {
    "collapsed": true
   },
   "outputs": [],
   "source": [
    "B = B*(20-5) + 5\n"
   ]
  },
  {
   "cell_type": "code",
   "execution_count": 44,
   "metadata": {},
   "outputs": [
    {
     "name": "stdout",
     "output_type": "stream",
     "text": [
      "[[ 191.5  256.8  188.3  278.6  208.8  162.6  129.1  112.7  270.9  137.3]\n",
      " [ 160.8  106.5   88.9  214.9  269.7  149.9  193.6   97.4  295.8  169.2]\n",
      " [ 134.3  270.2  247.   113.9  171.5  279.8  279.5  145.5  274.3  111.9]\n",
      " [ 113.3  177.5  267.9  270.   108.   140.5  158.1  166.3  129.3   98.6]\n",
      " [ 169.8   94.6  121.7  200.8  264.1  238.4  297.7  107.7  192.8  273.6]]\n"
     ]
    }
   ],
   "source": [
    "print B"
   ]
  },
  {
   "cell_type": "code",
   "execution_count": 50,
   "metadata": {
    "collapsed": true
   },
   "outputs": [],
   "source": [
    "B = B.astype(np.int16)\n",
    "count = np.bincount(B.flatten())"
   ]
  },
  {
   "cell_type": "code",
   "execution_count": 51,
   "metadata": {},
   "outputs": [
    {
     "data": {
      "text/plain": [
       "array([0, 0, 0, 0, 0, 0, 0, 0, 0, 0, 0, 0, 0, 0, 0, 0, 0, 0, 0, 0, 0, 0, 0,\n",
       "       0, 0, 0, 0, 0, 0, 0, 0, 0, 0, 0, 0, 0, 0, 0, 0, 0, 0, 0, 0, 0, 0, 0,\n",
       "       0, 0, 0, 0, 0, 0, 0, 0, 0, 0, 0, 0, 0, 0, 0, 0, 0, 0, 0, 0, 0, 0, 0,\n",
       "       0, 0, 0, 0, 0, 0, 0, 0, 0, 0, 0, 0, 0, 0, 0, 0, 0, 0, 0, 1, 0, 0, 0,\n",
       "       0, 0, 1, 0, 0, 1, 1, 0, 0, 0, 0, 0, 0, 0, 1, 2, 0, 0, 0, 1, 1, 2, 0,\n",
       "       0, 0, 0, 0, 0, 0, 1, 0, 0, 0, 0, 0, 0, 0, 2, 0, 0, 0, 0, 1, 0, 0, 1,\n",
       "       0, 0, 1, 0, 0, 0, 0, 1, 0, 0, 0, 1, 0, 0, 0, 0, 0, 0, 0, 0, 1, 0, 1,\n",
       "       0, 1, 0, 0, 0, 1, 0, 0, 2, 0, 1, 0, 0, 0, 0, 0, 1, 0, 0, 0, 0, 0, 0,\n",
       "       0, 0, 0, 0, 1, 0, 0, 1, 1, 1, 0, 0, 0, 0, 0, 0, 1, 0, 0, 0, 0, 0, 0,\n",
       "       0, 1, 0, 0, 0, 0, 0, 1, 0, 0, 0, 0, 0, 0, 0, 0, 0, 0, 0, 0, 0, 0, 0,\n",
       "       0, 0, 0, 0, 0, 0, 0, 0, 1, 0, 0, 0, 0, 0, 0, 0, 1, 0, 0, 0, 0, 0, 0,\n",
       "       0, 0, 0, 1, 0, 0, 0, 0, 0, 0, 0, 1, 0, 0, 1, 0, 2, 2, 0, 0, 1, 1, 0,\n",
       "       0, 0, 1, 2, 0, 0, 0, 0, 0, 0, 0, 0, 0, 0, 0, 0, 0, 0, 0, 1, 0, 1])"
      ]
     },
     "execution_count": 51,
     "metadata": {},
     "output_type": "execute_result"
    }
   ],
   "source": [
    "count"
   ]
  },
  {
   "cell_type": "code",
   "execution_count": null,
   "metadata": {
    "collapsed": true
   },
   "outputs": [],
   "source": []
  }
 ],
 "metadata": {
  "kernelspec": {
   "display_name": "Python 2",
   "language": "python",
   "name": "python2"
  },
  "language_info": {
   "codemirror_mode": {
    "name": "ipython",
    "version": 2
   },
   "file_extension": ".py",
   "mimetype": "text/x-python",
   "name": "python",
   "nbconvert_exporter": "python",
   "pygments_lexer": "ipython2",
   "version": "2.7.14"
  }
 },
 "nbformat": 4,
 "nbformat_minor": 2
}
