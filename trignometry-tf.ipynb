{
 "cells": [
  {
   "cell_type": "code",
   "execution_count": 18,
   "metadata": {
    "collapsed": true
   },
   "outputs": [],
   "source": [
    "import tensorflow as tf\n",
    "import numpy as np\n",
    "import matplotlib.pyplot as plt"
   ]
  },
  {
   "cell_type": "code",
   "execution_count": 19,
   "metadata": {
    "collapsed": true
   },
   "outputs": [],
   "source": [
    "from graphviz import Digraph\n",
    "from IPython.core.display import display, SVG\n",
    "\n",
    "def tf_to_dot(graph):\n",
    "    dot = Digraph()\n",
    "\n",
    "    for n in graph.as_graph_def().node:\n",
    "        name = n.name.split('/')[0]\n",
    "        dot.node(name, label=name)\n",
    "\n",
    "        for src in n.input:\n",
    "            src = src.split('/')[0]\n",
    "            if src != name:\n",
    "                dot.edge(src, name)\n",
    "    display(SVG(dot._repr_svg_()))        \n",
    "    return dot"
   ]
  },
  {
   "cell_type": "code",
   "execution_count": 20,
   "metadata": {},
   "outputs": [],
   "source": [
    "x = np.zeros(shape=(5,5))\n",
    "x = np.linspace(-2*np.pi,2*np.pi,100)"
   ]
  },
  {
   "cell_type": "code",
   "execution_count": 22,
   "metadata": {},
   "outputs": [
    {
     "data": {
      "image/svg+xml": [
       "<svg height=\"44pt\" viewBox=\"0.00 0.00 73.40 44.00\" width=\"73pt\" xmlns=\"http://www.w3.org/2000/svg\" xmlns:xlink=\"http://www.w3.org/1999/xlink\">\n",
       "<g class=\"graph\" id=\"graph0\" transform=\"scale(1 1) rotate(0) translate(4 40)\">\n",
       "<title>%3</title>\n",
       "<polygon fill=\"white\" points=\"-4,4 -4,-40 69.3982,-40 69.3982,4 -4,4\" stroke=\"none\"/>\n",
       "<!-- cosine -->\n",
       "<g class=\"node\" id=\"node1\"><title>cosine</title>\n",
       "<ellipse cx=\"32.6991\" cy=\"-18\" fill=\"none\" rx=\"32.8994\" ry=\"18\" stroke=\"black\"/>\n",
       "<text font-family=\"Times,serif\" font-size=\"14.00\" text-anchor=\"middle\" x=\"32.6991\" y=\"-13.8\">cosine</text>\n",
       "</g>\n",
       "</g>\n",
       "</svg>"
      ],
      "text/plain": [
       "<IPython.core.display.SVG object>"
      ]
     },
     "metadata": {},
     "output_type": "display_data"
    },
    {
     "data": {
      "image/png": "[encoded data removed]",
      "text/plain": [
       "<matplotlib.figure.Figure at 0x105334250>"
      ]
     },
     "metadata": {},
     "output_type": "display_data"
    }
   ],
   "source": [
    "tf.reset_default_graph()\n",
    "cosinenode = tf.cos(x, name=\"cosine\")\n",
    "\n",
    "sess = tf.Session()\n",
    "output = sess.run(cosinenode)\n",
    "tf_to_dot(tf.get_default_graph())\n",
    "sess.close()\n",
    "\n",
    "points = zip(x, output)\n",
    "plt.plot(x,output)\n",
    "plt.show()"
   ]
  },
  {
   "cell_type": "code",
   "execution_count": null,
   "metadata": {
    "collapsed": true
   },
   "outputs": [],
   "source": []
  }
 ],
 "metadata": {
  "kernelspec": {
   "display_name": "Python 2",
   "language": "python",
   "name": "python2"
  },
  "language_info": {
   "codemirror_mode": {
    "name": "ipython",
    "version": 2
   },
   "file_extension": ".py",
   "mimetype": "text/x-python",
   "name": "python",
   "nbconvert_exporter": "python",
   "pygments_lexer": "ipython2",
   "version": "2.7.14"
  }
 },
 "nbformat": 4,
 "nbformat_minor": 2
}
